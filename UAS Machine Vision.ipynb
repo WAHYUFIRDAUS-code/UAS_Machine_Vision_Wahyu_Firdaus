{
 "cells": [
  {
   "cell_type": "code",
   "execution_count": 1,
   "id": "fba89317",
   "metadata": {},
   "outputs": [
    {
     "name": "stderr",
     "output_type": "stream",
     "text": [
      "C:\\Users\\ASUS\\anaconda3\\Lib\\site-packages\\paramiko\\transport.py:219: CryptographyDeprecationWarning: Blowfish has been deprecated\n",
      "  \"class\": algorithms.Blowfish,\n"
     ]
    }
   ],
   "source": [
    "import matplotlib.pyplot as plt\n",
    "from skimage.feature import hog\n",
    "from sklearn import datasets\n",
    "from mlxtend.data import loadlocal_mnist\n",
    "from sklearn.neural_network import MLPClassifier\n",
    "import numpy as np\n",
    "from sklearn.svm import SVC\n",
    "from sklearn import metrics\n",
    "from mlxtend.plotting import plot_confusion_matrix"
   ]
  },
  {
   "cell_type": "markdown",
   "id": "2f69493e",
   "metadata": {},
   "source": [
    "# 1.Load Image Dataset"
   ]
  },
  {
   "cell_type": "code",
   "execution_count": 2,
   "id": "dcbfc27a",
   "metadata": {},
   "outputs": [],
   "source": [
    "images_path = 'C:/Users/ASUS/UAS/train-images.idx3-ubyte'\n",
    "labels_path = 'C:/Users/ASUS/UAS/train-labels.idx1-ubyte'\n",
    "train_images, train_labels = loadlocal_mnist(images_path=images_path, labels_path=labels_path)"
   ]
  },
  {
   "cell_type": "code",
   "execution_count": 3,
   "id": "8359480b",
   "metadata": {},
   "outputs": [],
   "source": [
    "images_path = 'C:/Users/ASUS/UAS/t10k-images.idx3-ubyte'\n",
    "labels_path = 'C:/Users/ASUS/UAS/t10k-labels.idx1-ubyte'\n",
    "test_images, test_labels = loadlocal_mnist(images_path=images_path, labels_path=labels_path)"
   ]
  },
  {
   "cell_type": "code",
   "execution_count": 4,
   "id": "3a20f0a1",
   "metadata": {},
   "outputs": [
    {
     "data": {
      "text/plain": [
       "<matplotlib.image.AxesImage at 0x1d709155650>"
      ]
     },
     "execution_count": 4,
     "metadata": {},
     "output_type": "execute_result"
    },
    {
     "data": {
      "image/png": "[encoded data removed]",
      "text/plain": [
       "<Figure size 640x480 with 1 Axes>"
      ]
     },
     "metadata": {},
     "output_type": "display_data"
    }
   ],
   "source": [
    "plt.imshow(train_images[90].reshape(28,28), cmap='gray')"
   ]
  },
  {
   "cell_type": "code",
   "execution_count": 5,
   "id": "35bd3e5e",
   "metadata": {},
   "outputs": [
    {
     "data": {
      "text/plain": [
       "6"
      ]
     },
     "execution_count": 5,
     "metadata": {},
     "output_type": "execute_result"
    }
   ],
   "source": [
    "train_labels[90]"
   ]
  },
  {
   "cell_type": "markdown",
   "id": "ff599216",
   "metadata": {},
   "source": [
    "# 2.Test extract HOG feature from image"
   ]
  },
  {
   "cell_type": "code",
   "execution_count": 6,
   "id": "e8c95c1c",
   "metadata": {},
   "outputs": [],
   "source": [
    "X_train_reshaped = train_images.reshape(-1, 28, 28)"
   ]
  },
  {
   "cell_type": "code",
   "execution_count": 7,
   "id": "8dbbbd72",
   "metadata": {},
   "outputs": [],
   "source": [
    "X_train_hog = []\n",
    "for img in X_train_reshaped:\n",
    "    features, _ = hog(img, orientations=9, pixels_per_cell=(8, 8), cells_per_block=(2, 2), visualize=True)\n",
    "    X_train_hog.append(features)"
   ]
  },
  {
   "cell_type": "code",
   "execution_count": 8,
   "id": "c1dadf7b",
   "metadata": {},
   "outputs": [],
   "source": [
    "X_train_hog = np.array(X_train_hog)\n",
    "y_train = np.array(train_labels)"
   ]
  },
  {
   "cell_type": "code",
   "execution_count": 9,
   "id": "acfedc33",
   "metadata": {},
   "outputs": [],
   "source": [
    "X_test_reshaped = test_images.reshape(-1, 28, 28)"
   ]
  },
  {
   "cell_type": "code",
   "execution_count": 10,
   "id": "73a167aa",
   "metadata": {},
   "outputs": [],
   "source": [
    "X_test_hog = []\n",
    "for img in X_test_reshaped:\n",
    "    features, _ = hog(img, orientations=9, pixels_per_cell=(8, 8), cells_per_block=(2, 2), visualize=True)\n",
    "    X_test_hog.append(features)"
   ]
  },
  {
   "cell_type": "code",
   "execution_count": 11,
   "id": "5f8589da",
   "metadata": {},
   "outputs": [],
   "source": [
    "X_test_hog = np.array(X_test_hog)\n",
    "y_test = np.array(test_labels)"
   ]
  },
  {
   "cell_type": "markdown",
   "id": "07ab2dd6",
   "metadata": {},
   "source": [
    "# 3.Training Process\n"
   ]
  },
  {
   "cell_type": "code",
   "execution_count": 21,
   "id": "9fe2869f",
   "metadata": {},
   "outputs": [
    {
     "data": {
      "text/html": [
       "<style>#sk-container-id-4 {color: black;}#sk-container-id-4 pre{padding: 0;}#sk-container-id-4 div.sk-toggleable {background-color: white;}#sk-container-id-4 label.sk-toggleable__label {cursor: pointer;display: block;width: 100%;margin-bottom: 0;padding: 0.3em;box-sizing: border-box;text-align: center;}#sk-container-id-4 label.sk-toggleable__label-arrow:before {content: \"▸\";float: left;margin-right: 0.25em;color: #696969;}#sk-container-id-4 label.sk-toggleable__label-arrow:hover:before {color: black;}#sk-container-id-4 div.sk-estimator:hover label.sk-toggleable__label-arrow:before {color: black;}#sk-container-id-4 div.sk-toggleable__content {max-height: 0;max-width: 0;overflow: hidden;text-align: left;background-color: #f0f8ff;}#sk-container-id-4 div.sk-toggleable__content pre {margin: 0.2em;color: black;border-radius: 0.25em;background-color: #f0f8ff;}#sk-container-id-4 input.sk-toggleable__control:checked~div.sk-toggleable__content {max-height: 200px;max-width: 100%;overflow: auto;}#sk-container-id-4 input.sk-toggleable__control:checked~label.sk-toggleable__label-arrow:before {content: \"▾\";}#sk-container-id-4 div.sk-estimator input.sk-toggleable__control:checked~label.sk-toggleable__label {background-color: #d4ebff;}#sk-container-id-4 div.sk-label input.sk-toggleable__control:checked~label.sk-toggleable__label {background-color: #d4ebff;}#sk-container-id-4 input.sk-hidden--visually {border: 0;clip: rect(1px 1px 1px 1px);clip: rect(1px, 1px, 1px, 1px);height: 1px;margin: -1px;overflow: hidden;padding: 0;position: absolute;width: 1px;}#sk-container-id-4 div.sk-estimator {font-family: monospace;background-color: #f0f8ff;border: 1px dotted black;border-radius: 0.25em;box-sizing: border-box;margin-bottom: 0.5em;}#sk-container-id-4 div.sk-estimator:hover {background-color: #d4ebff;}#sk-container-id-4 div.sk-parallel-item::after {content: \"\";width: 100%;border-bottom: 1px solid gray;flex-grow: 1;}#sk-container-id-4 div.sk-label:hover label.sk-toggleable__label {background-color: #d4ebff;}#sk-container-id-4 div.sk-serial::before {content: \"\";position: absolute;border-left: 1px solid gray;box-sizing: border-box;top: 0;bottom: 0;left: 50%;z-index: 0;}#sk-container-id-4 div.sk-serial {display: flex;flex-direction: column;align-items: center;background-color: white;padding-right: 0.2em;padding-left: 0.2em;position: relative;}#sk-container-id-4 div.sk-item {position: relative;z-index: 1;}#sk-container-id-4 div.sk-parallel {display: flex;align-items: stretch;justify-content: center;background-color: white;position: relative;}#sk-container-id-4 div.sk-item::before, #sk-container-id-4 div.sk-parallel-item::before {content: \"\";position: absolute;border-left: 1px solid gray;box-sizing: border-box;top: 0;bottom: 0;left: 50%;z-index: -1;}#sk-container-id-4 div.sk-parallel-item {display: flex;flex-direction: column;z-index: 1;position: relative;background-color: white;}#sk-container-id-4 div.sk-parallel-item:first-child::after {align-self: flex-end;width: 50%;}#sk-container-id-4 div.sk-parallel-item:last-child::after {align-self: flex-start;width: 50%;}#sk-container-id-4 div.sk-parallel-item:only-child::after {width: 0;}#sk-container-id-4 div.sk-dashed-wrapped {border: 1px dashed gray;margin: 0 0.4em 0.5em 0.4em;box-sizing: border-box;padding-bottom: 0.4em;background-color: white;}#sk-container-id-4 div.sk-label label {font-family: monospace;font-weight: bold;display: inline-block;line-height: 1.2em;}#sk-container-id-4 div.sk-label-container {text-align: center;}#sk-container-id-4 div.sk-container {/* jupyter's `normalize.less` sets `[hidden] { display: none; }` but bootstrap.min.css set `[hidden] { display: none !important; }` so we also need the `!important` here to be able to override the default hidden behavior on the sphinx rendered scikit-learn.org. See: https://github.com/scikit-learn/scikit-learn/issues/21755 */display: inline-block !important;position: relative;}#sk-container-id-4 div.sk-text-repr-fallback {display: none;}</style><div id=\"sk-container-id-4\" class=\"sk-top-container\"><div class=\"sk-text-repr-fallback\"><pre>SVC()</pre><b>In a Jupyter environment, please rerun this cell to show the HTML representation or trust the notebook. <br />On GitHub, the HTML representation is unable to render, please try loading this page with nbviewer.org.</b></div><div class=\"sk-container\" hidden><div class=\"sk-item\"><div class=\"sk-estimator sk-toggleable\"><input class=\"sk-toggleable__control sk-hidden--visually\" id=\"sk-estimator-id-4\" type=\"checkbox\" checked><label for=\"sk-estimator-id-4\" class=\"sk-toggleable__label sk-toggleable__label-arrow\">SVC</label><div class=\"sk-toggleable__content\"><pre>SVC()</pre></div></div></div></div></div>"
      ],
      "text/plain": [
       "SVC()"
      ]
     },
     "execution_count": 21,
     "metadata": {},
     "output_type": "execute_result"
    }
   ],
   "source": [
    "svm = SVC()\n",
    "svm.fit(X_train_hog, train_labels)"
   ]
  },
  {
   "cell_type": "code",
   "execution_count": 22,
   "id": "8a0f25e7",
   "metadata": {},
   "outputs": [],
   "source": [
    "y_pred = svm.predict(X_test_hog)"
   ]
  },
  {
   "cell_type": "markdown",
   "id": "cc955ff1",
   "metadata": {},
   "source": [
    "# 4.Predict Test"
   ]
  },
  {
   "cell_type": "code",
   "execution_count": 16,
   "id": "5b110472",
   "metadata": {},
   "outputs": [
    {
     "data": {
      "image/png": "[encoded data removed]",
      "text/plain": [
       "<Figure size 1500x300 with 7 Axes>"
      ]
     },
     "metadata": {},
     "output_type": "display_data"
    }
   ],
   "source": [
    "def predict(images, targets, sample_size=7, title_text='Digit {}' ):\n",
    "    nsamples = min(sample_size, len(images))\n",
    "    rand_idx = np.random.choice(len(images), nsamples)\n",
    "    images_and_labels = list(zip(images[rand_idx], targets[rand_idx]))\n",
    "\n",
    "    num_rows = 1\n",
    "    img = plt.figure(1, figsize=(15, 3), dpi=100)\n",
    "    for index, (image, label) in enumerate(images_and_labels):\n",
    "        plt.subplot(1, nsamples, index + 1)\n",
    "        plt.axis('off')\n",
    "        plt.imshow(image.reshape(28, 28), cmap='gray')\n",
    "        plt.title(title_text.format(label))\n",
    "\n",
    "    plt.show()\n",
    "\n",
    "\n",
    "predict(test_images, y_pred, sample_size=7)"
   ]
  },
  {
   "cell_type": "markdown",
   "id": "692d0ffa",
   "metadata": {},
   "source": [
    "# 5.Evaluation Metrics A.Confussion metrics"
   ]
  },
  {
   "cell_type": "code",
   "execution_count": 27,
   "id": "7269ccc2",
   "metadata": {},
   "outputs": [],
   "source": [
    "class_names = ['0', '1', '2', '3', '4', '5', '6', '7', '8', '9']"
   ]
  },
  {
   "cell_type": "code",
   "execution_count": 28,
   "id": "9045627d",
   "metadata": {},
   "outputs": [
    {
     "data": {
      "text/plain": [
       "array([[ 973,    0,    1,    0,    0,    0,    5,    1,    0,    0],\n",
       "       [   1, 1124,    6,    0,    2,    0,    1,    1,    0,    0],\n",
       "       [   2,    0, 1011,    6,    2,    0,    1,    8,    2,    0],\n",
       "       [   2,    2,    8,  979,    0,    2,    0,    4,    6,    7],\n",
       "       [   4,    1,    0,    0,  950,    0,    9,    2,    2,   14],\n",
       "       [   3,    0,    0,   10,    0,  865,    7,    1,    5,    1],\n",
       "       [   6,    2,    1,    0,    2,    4,  940,    0,    2,    1],\n",
       "       [   0,    3,   13,    3,   11,    0,    0,  981,    4,   13],\n",
       "       [   6,    1,    4,   12,    2,    4,    1,    3,  934,    7],\n",
       "       [   2,    3,    0,    5,   11,    4,    0,    4,   13,  967]],\n",
       "      dtype=int64)"
      ]
     },
     "execution_count": 28,
     "metadata": {},
     "output_type": "execute_result"
    }
   ],
   "source": [
    "conf_mat = metrics.confusion_matrix(y_test, y_pred)\n",
    "conf_mat"
   ]
  },
  {
   "cell_type": "code",
   "execution_count": 29,
   "id": "be69060c",
   "metadata": {},
   "outputs": [
    {
     "data": {
      "image/png": "[encoded data removed]",
      "text/plain": [
       "<Figure size 640x480 with 1 Axes>"
      ]
     },
     "metadata": {},
     "output_type": "display_data"
    }
   ],
   "source": [
    "fig, ax = plot_confusion_matrix(conf_mat=conf_mat, class_names=class_names)"
   ]
  },
  {
   "cell_type": "markdown",
   "id": "6f25b45a",
   "metadata": {},
   "source": [
    "# B.Precission"
   ]
  },
  {
   "cell_type": "code",
   "execution_count": 30,
   "id": "4da1d52c",
   "metadata": {},
   "outputs": [
    {
     "data": {
      "text/plain": [
       "array([0.97397397, 0.98943662, 0.9683908 , 0.96453202, 0.96938776,\n",
       "       0.98407281, 0.97510373, 0.9761194 , 0.96487603, 0.95742574])"
      ]
     },
     "execution_count": 30,
     "metadata": {},
     "output_type": "execute_result"
    }
   ],
   "source": [
    "precision = metrics.precision_score(y_test, y_pred, average=None)\n",
    "precision"
   ]
  },
  {
   "cell_type": "markdown",
   "id": "8e6cd2d0",
   "metadata": {},
   "source": [
    "# C.Accuracy"
   ]
  },
  {
   "cell_type": "code",
   "execution_count": 31,
   "id": "67d617d2",
   "metadata": {},
   "outputs": [
    {
     "data": {
      "text/plain": [
       "0.9724"
      ]
     },
     "execution_count": 31,
     "metadata": {},
     "output_type": "execute_result"
    }
   ],
   "source": [
    "accuracy = metrics.accuracy_score(y_test, y_pred)\n",
    "accuracy"
   ]
  },
  {
   "cell_type": "code",
   "execution_count": null,
   "id": "a752bf11",
   "metadata": {},
   "outputs": [],
   "source": []
  }
 ],
 "metadata": {
  "kernelspec": {
   "display_name": "Python 3 (ipykernel)",
   "language": "python",
   "name": "python3"
  },
  "language_info": {
   "codemirror_mode": {
    "name": "ipython",
    "version": 3
   },
   "file_extension": ".py",
   "mimetype": "text/x-python",
   "name": "python",
   "nbconvert_exporter": "python",
   "pygments_lexer": "ipython3",
   "version": "3.11.4"
  }
 },
 "nbformat": 4,
 "nbformat_minor": 5
}
